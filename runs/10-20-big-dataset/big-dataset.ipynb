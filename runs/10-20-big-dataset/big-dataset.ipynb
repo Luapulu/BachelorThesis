{
 "cells": [
  {
   "cell_type": "code",
   "execution_count": 2,
   "metadata": {},
   "outputs": [
    {
     "data": {
      "text/plain": [
       "8000-element Array{String,1}:\n",
       " \"GWD6022_Co56_side50cm_0001_signals.jld\"\n",
       " \"GWD6022_Co56_side50cm_0002_signals.jld\"\n",
       " \"GWD6022_Co56_side50cm_0003_signals.jld\"\n",
       " \"GWD6022_Co56_side50cm_0004_signals.jld\"\n",
       " \"GWD6022_Co56_side50cm_0005_signals.jld\"\n",
       " \"GWD6022_Co56_side50cm_0006_signals.jld\"\n",
       " \"GWD6022_Co56_side50cm_0007_signals.jld\"\n",
       " \"GWD6022_Co56_side50cm_0008_signals.jld\"\n",
       " \"GWD6022_Co56_side50cm_0009_signals.jld\"\n",
       " \"GWD6022_Co56_side50cm_0010_signals.jld\"\n",
       " \"GWD6022_Co56_side50cm_0011_signals.jld\"\n",
       " \"GWD6022_Co56_side50cm_0012_signals.jld\"\n",
       " \"GWD6022_Co56_side50cm_0013_signals.jld\"\n",
       " ⋮\n",
       " \"GWD6022_Co56_side50cm_7988_signals.jld\"\n",
       " \"GWD6022_Co56_side50cm_7989_signals.jld\"\n",
       " \"GWD6022_Co56_side50cm_7990_signals.jld\"\n",
       " \"GWD6022_Co56_side50cm_7991_signals.jld\"\n",
       " \"GWD6022_Co56_side50cm_7992_signals.jld\"\n",
       " \"GWD6022_Co56_side50cm_7993_signals.jld\"\n",
       " \"GWD6022_Co56_side50cm_7994_signals.jld\"\n",
       " \"GWD6022_Co56_side50cm_7995_signals.jld\"\n",
       " \"GWD6022_Co56_side50cm_7996_signals.jld\"\n",
       " \"GWD6022_Co56_side50cm_7997_signals.jld\"\n",
       " \"GWD6022_Co56_side50cm_7998_signals.jld\"\n",
       " \"GWD6022_Co56_side50cm_7999_signals.jld\""
      ]
     },
     "execution_count": 2,
     "metadata": {},
     "output_type": "execute_result"
    }
   ],
   "source": [
    "readdir(\"/mnt/e15/comellato/results4Paul_hd/\")"
   ]
  },
  {
   "cell_type": "code",
   "execution_count": null,
   "metadata": {
    "scrolled": true
   },
   "outputs": [],
   "source": [
    "using MaGeSigGen"
   ]
  },
  {
   "cell_type": "code",
   "execution_count": null,
   "metadata": {},
   "outputs": [],
   "source": []
  }
 ],
 "metadata": {
  "kernelspec": {
   "display_name": "Julia 1.5.1",
   "language": "julia",
   "name": "julia-1.5"
  },
  "language_info": {
   "file_extension": ".jl",
   "mimetype": "application/julia",
   "name": "julia",
   "version": "1.5.1"
  }
 },
 "nbformat": 4,
 "nbformat_minor": 4
}
