{
 "cells": [
  {
   "cell_type": "code",
   "execution_count": 1,
   "metadata": {},
   "outputs": [
    {
     "name": "stderr",
     "output_type": "stream",
     "text": [
      "\u001b[32m\u001b[1m Activating\u001b[22m\u001b[39m environment at `/mnt/geda00/nemec/BachelorThesis/Project.toml`\n",
      "\u001b[32m\u001b[1m    Testing\u001b[22m\u001b[39m MaGeSigGen\n",
      "\u001b[32m\u001b[1mStatus\u001b[22m\u001b[39m `/tmp/jl_zkW6yz/Project.toml`\n",
      " \u001b[90m [6e4b80f9] \u001b[39m\u001b[37mBenchmarkTools v0.5.0\u001b[39m\n",
      " \u001b[90m [717857b8] \u001b[39m\u001b[37mDSP v0.6.8\u001b[39m\n",
      " \u001b[90m [31c24e10] \u001b[39m\u001b[37mDistributions v0.23.12\u001b[39m\n",
      " \u001b[90m [7073ff75] \u001b[39m\u001b[37mIJulia v1.21.3\u001b[39m\n",
      " \u001b[90m [4138dd39] \u001b[39m\u001b[37mJLD v0.10.0\u001b[39m\n",
      " \u001b[90m [d3f1610b] \u001b[39m\u001b[37mMJDSigGen v0.1.0 `https://github.com/Luapulu/MJDSigGen.jl.git#dev-luapulu`\u001b[39m\n",
      " \u001b[90m [a1237f97] \u001b[39m\u001b[37mMaGe v0.2.0 `https://github.com/Luapulu/MaGe.jl.git#master`\u001b[39m\n",
      " \u001b[90m [c72a0c40] \u001b[39m\u001b[37mMaGeSigGen v0.1.3 `/mnt/geda00/nemec/BachelorThesis`\u001b[39m\n",
      " \u001b[90m [91a5bcdd] \u001b[39m\u001b[37mPlots v1.6.6\u001b[39m\n",
      " \u001b[90m [2913bbd2] \u001b[39m\u001b[37mStatsBase v0.33.1\u001b[39m\n",
      " \u001b[90m [ddb6d928] \u001b[39m\u001b[37mYAML v0.4.2\u001b[39m\n",
      " \u001b[90m [8ba89e20] \u001b[39m\u001b[37mDistributed\u001b[39m\n",
      " \u001b[90m [56ddb016] \u001b[39m\u001b[37mLogging\u001b[39m\n",
      " \u001b[90m [10745b16] \u001b[39m\u001b[37mStatistics\u001b[39m\n",
      " \u001b[90m [8dfed614] \u001b[39m\u001b[37mTest\u001b[39m\n",
      "\u001b[32m\u001b[1mStatus\u001b[22m\u001b[39m `/tmp/jl_zkW6yz/Manifest.toml`\n",
      " \u001b[90m [621f4979] \u001b[39m\u001b[37mAbstractFFTs v0.5.0\u001b[39m\n",
      " \u001b[90m [79e6a3ab] \u001b[39m\u001b[37mAdapt v2.3.0\u001b[39m\n",
      " \u001b[90m [6e4b80f9] \u001b[39m\u001b[37mBenchmarkTools v0.5.0\u001b[39m\n",
      " \u001b[90m [9e28174c] \u001b[39m\u001b[37mBinDeps v1.0.1\u001b[39m\n",
      " \u001b[90m [a74b3585] \u001b[39m\u001b[37mBlosc v0.7.0\u001b[39m\n",
      " \u001b[90m [0b7ba130] \u001b[39m\u001b[37mBlosc_jll v1.14.3+1\u001b[39m\n",
      " \u001b[90m [6e34b625] \u001b[39m\u001b[37mBzip2_jll v1.0.6+4\u001b[39m\n",
      " \u001b[90m [35d6a980] \u001b[39m\u001b[37mColorSchemes v3.10.1\u001b[39m\n",
      " \u001b[90m [3da002f7] \u001b[39m\u001b[37mColorTypes v0.10.9\u001b[39m\n",
      " \u001b[90m [5ae59095] \u001b[39m\u001b[37mColors v0.12.4\u001b[39m\n",
      " \u001b[90m [34da2185] \u001b[39m\u001b[37mCompat v3.17.0\u001b[39m\n",
      " \u001b[90m [e66e0078] \u001b[39m\u001b[37mCompilerSupportLibraries_jll v0.3.3+0\u001b[39m\n",
      " \u001b[90m [8f4d0f93] \u001b[39m\u001b[37mConda v1.4.1\u001b[39m\n",
      " \u001b[90m [d38c429a] \u001b[39m\u001b[37mContour v0.5.5\u001b[39m\n",
      " \u001b[90m [717857b8] \u001b[39m\u001b[37mDSP v0.6.8\u001b[39m\n",
      " \u001b[90m [9a962f9c] \u001b[39m\u001b[37mDataAPI v1.3.0\u001b[39m\n",
      " \u001b[90m [864edb3b] \u001b[39m\u001b[37mDataStructures v0.18.6\u001b[39m\n",
      " \u001b[90m [e2d170a0] \u001b[39m\u001b[37mDataValueInterfaces v1.0.0\u001b[39m\n",
      " \u001b[90m [31c24e10] \u001b[39m\u001b[37mDistributions v0.23.12\u001b[39m\n",
      " \u001b[90m [5ae413db] \u001b[39m\u001b[37mEarCut_jll v2.1.5+0\u001b[39m\n",
      " \u001b[90m [e2ba6199] \u001b[39m\u001b[37mExprTools v0.1.2\u001b[39m\n",
      " \u001b[90m [8f5d6c58] \u001b[39m\u001b[37mEzXML v1.1.0\u001b[39m\n",
      " \u001b[90m [c87230d0] \u001b[39m\u001b[37mFFMPEG v0.4.0\u001b[39m\n",
      " \u001b[90m [b22a6f82] \u001b[39m\u001b[37mFFMPEG_jll v4.3.1+2\u001b[39m\n",
      " \u001b[90m [7a1cc6ca] \u001b[39m\u001b[37mFFTW v1.2.4\u001b[39m\n",
      " \u001b[90m [f5851436] \u001b[39m\u001b[37mFFTW_jll v3.3.9+5\u001b[39m\n",
      " \u001b[90m [5789e2e9] \u001b[39m\u001b[37mFileIO v1.4.3\u001b[39m\n",
      " \u001b[90m [1a297f60] \u001b[39m\u001b[37mFillArrays v0.9.6\u001b[39m\n",
      " \u001b[90m [53c48c17] \u001b[39m\u001b[37mFixedPointNumbers v0.8.4\u001b[39m\n",
      " \u001b[90m [d7e528f0] \u001b[39m\u001b[37mFreeType2_jll v2.10.1+4\u001b[39m\n",
      " \u001b[90m [559328eb] \u001b[39m\u001b[37mFriBidi_jll v1.0.5+5\u001b[39m\n",
      " \u001b[90m [28b8d3ca] \u001b[39m\u001b[37mGR v0.52.0\u001b[39m\n",
      " \u001b[90m [5c1252a2] \u001b[39m\u001b[37mGeometryBasics v0.3.1\u001b[39m\n",
      " \u001b[90m [4d00f742] \u001b[39m\u001b[37mGeometryTypes v0.8.3\u001b[39m\n",
      " \u001b[90m [42e2da0e] \u001b[39m\u001b[37mGrisu v1.0.0\u001b[39m\n",
      " \u001b[90m [f67ccb44] \u001b[39m\u001b[37mHDF5 v0.13.6\u001b[39m\n",
      " \u001b[90m [0234f1f7] \u001b[39m\u001b[37mHDF5_jll v1.10.5+6\u001b[39m\n",
      " \u001b[90m [cd3eb016] \u001b[39m\u001b[37mHTTP v0.8.19\u001b[39m\n",
      " \u001b[90m [7073ff75] \u001b[39m\u001b[37mIJulia v1.21.3\u001b[39m\n",
      " \u001b[90m [83e8ac13] \u001b[39m\u001b[37mIniFile v0.5.0\u001b[39m\n",
      " \u001b[90m [1d5cc7b8] \u001b[39m\u001b[37mIntelOpenMP_jll v2018.0.3+0\u001b[39m\n",
      " \u001b[90m [d8418881] \u001b[39m\u001b[37mIntervals v1.4.2\u001b[39m\n",
      " \u001b[90m [c8e1da08] \u001b[39m\u001b[37mIterTools v1.3.0\u001b[39m\n",
      " \u001b[90m [82899510] \u001b[39m\u001b[37mIteratorInterfaceExtensions v1.0.0\u001b[39m\n",
      " \u001b[90m [4138dd39] \u001b[39m\u001b[37mJLD v0.10.0\u001b[39m\n",
      " \u001b[90m [682c06a0] \u001b[39m\u001b[37mJSON v0.21.1\u001b[39m\n",
      " \u001b[90m [c1c5ebd0] \u001b[39m\u001b[37mLAME_jll v3.100.0+2\u001b[39m\n",
      " \u001b[90m [dd192d2f] \u001b[39m\u001b[37mLibVPX_jll v1.9.0+0\u001b[39m\n",
      " \u001b[90m [94ce4f54] \u001b[39m\u001b[37mLibiconv_jll v1.16.0+6\u001b[39m\n",
      " \u001b[90m [5ced341a] \u001b[39m\u001b[37mLz4_jll v1.9.2+2\u001b[39m\n",
      " \u001b[90m [d3f1610b] \u001b[39m\u001b[37mMJDSigGen v0.1.0 `https://github.com/Luapulu/MJDSigGen.jl.git#dev-luapulu`\u001b[39m\n",
      " \u001b[90m [856f044c] \u001b[39m\u001b[37mMKL_jll v2020.2.254+0\u001b[39m\n",
      " \u001b[90m [a1237f97] \u001b[39m\u001b[37mMaGe v0.2.0 `https://github.com/Luapulu/MaGe.jl.git#master`\u001b[39m\n",
      " \u001b[90m [c72a0c40] \u001b[39m\u001b[37mMaGeSigGen v0.1.3 `/mnt/geda00/nemec/BachelorThesis`\u001b[39m\n",
      " \u001b[90m [739be429] \u001b[39m\u001b[37mMbedTLS v1.0.2\u001b[39m\n",
      " \u001b[90m [c8ffd9c3] \u001b[39m\u001b[37mMbedTLS_jll v2.16.8+0\u001b[39m\n",
      " \u001b[90m [442fdcdd] \u001b[39m\u001b[37mMeasures v0.3.1\u001b[39m\n",
      " \u001b[90m [e1d29d7a] \u001b[39m\u001b[37mMissings v0.4.4\u001b[39m\n",
      " \u001b[90m [78c3b35d] \u001b[39m\u001b[37mMocking v0.7.1\u001b[39m\n",
      " \u001b[90m [77ba4419] \u001b[39m\u001b[37mNaNMath v0.3.4\u001b[39m\n",
      " \u001b[90m [6fe1bfb0] \u001b[39m\u001b[37mOffsetArrays v1.3.0\u001b[39m\n",
      " \u001b[90m [e7412a2a] \u001b[39m\u001b[37mOgg_jll v1.3.4+1\u001b[39m\n",
      " \u001b[90m [458c3c95] \u001b[39m\u001b[37mOpenSSL_jll v1.1.1+5\u001b[39m\n",
      " \u001b[90m [efe28fd5] \u001b[39m\u001b[37mOpenSpecFun_jll v0.5.3+3\u001b[39m\n",
      " \u001b[90m [91d4177d] \u001b[39m\u001b[37mOpus_jll v1.3.1+2\u001b[39m\n",
      " \u001b[90m [bac558e1] \u001b[39m\u001b[37mOrderedCollections v1.3.1\u001b[39m\n",
      " \u001b[90m [90014a1f] \u001b[39m\u001b[37mPDMats v0.10.1\u001b[39m\n",
      " \u001b[90m [69de0a69] \u001b[39m\u001b[37mParsers v1.0.10\u001b[39m\n",
      " \u001b[90m [ccf2f8ad] \u001b[39m\u001b[37mPlotThemes v2.0.0\u001b[39m\n",
      " \u001b[90m [995b91a9] \u001b[39m\u001b[37mPlotUtils v1.0.7\u001b[39m\n",
      " \u001b[90m [91a5bcdd] \u001b[39m\u001b[37mPlots v1.6.6\u001b[39m\n",
      " \u001b[90m [f27b6e38] \u001b[39m\u001b[37mPolynomials v1.1.9\u001b[39m\n",
      " \u001b[90m [1fd47b50] \u001b[39m\u001b[37mQuadGK v2.4.1\u001b[39m\n",
      " \u001b[90m [3cdcf5f2] \u001b[39m\u001b[37mRecipesBase v1.1.0\u001b[39m\n",
      " \u001b[90m [01d81517] \u001b[39m\u001b[37mRecipesPipeline v0.1.13\u001b[39m\n",
      " \u001b[90m [189a3867] \u001b[39m\u001b[37mReexport v0.2.0\u001b[39m\n",
      " \u001b[90m [ae029012] \u001b[39m\u001b[37mRequires v1.0.3\u001b[39m\n",
      " \u001b[90m [79098fc4] \u001b[39m\u001b[37mRmath v0.6.1\u001b[39m\n",
      " \u001b[90m [f50d1b31] \u001b[39m\u001b[37mRmath_jll v0.2.2+1\u001b[39m\n",
      " \u001b[90m [992d4aef] \u001b[39m\u001b[37mShowoff v0.3.2\u001b[39m\n",
      " \u001b[90m [b85f4697] \u001b[39m\u001b[37mSoftGlobalScope v1.1.0\u001b[39m\n",
      " \u001b[90m [a2af1166] \u001b[39m\u001b[37mSortingAlgorithms v0.3.1\u001b[39m\n",
      " \u001b[90m [276daf66] \u001b[39m\u001b[37mSpecialFunctions v0.10.3\u001b[39m\n",
      " \u001b[90m [90137ffa] \u001b[39m\u001b[37mStaticArrays v0.12.4\u001b[39m\n",
      " \u001b[90m [2913bbd2] \u001b[39m\u001b[37mStatsBase v0.33.1\u001b[39m\n",
      " \u001b[90m [4c63d2b9] \u001b[39m\u001b[37mStatsFuns v0.9.5\u001b[39m\n",
      " \u001b[90m [09ab397b] \u001b[39m\u001b[37mStructArrays v0.4.4\u001b[39m\n",
      " \u001b[90m [3783bdb8] \u001b[39m\u001b[37mTableTraits v1.0.0\u001b[39m\n",
      " \u001b[90m [bd369af6] \u001b[39m\u001b[37mTables v1.0.5\u001b[39m\n",
      " \u001b[90m [f269a46b] \u001b[39m\u001b[37mTimeZones v1.4.0\u001b[39m\n",
      " \u001b[90m [30578b45] \u001b[39m\u001b[37mURIParser v0.4.1\u001b[39m\n",
      " \u001b[90m [81def892] \u001b[39m\u001b[37mVersionParsing v1.2.0\u001b[39m\n",
      " \u001b[90m [02c8fc9c] \u001b[39m\u001b[37mXML2_jll v2.9.10+2\u001b[39m\n",
      " \u001b[90m [ddb6d928] \u001b[39m\u001b[37mYAML v0.4.2\u001b[39m\n",
      " \u001b[90m [c2297ded] \u001b[39m\u001b[37mZMQ v1.2.1\u001b[39m\n",
      " \u001b[90m [8f1865be] \u001b[39m\u001b[37mZeroMQ_jll v4.3.2+4\u001b[39m\n",
      " \u001b[90m [83775a58] \u001b[39m\u001b[37mZlib_jll v1.2.11+16\u001b[39m\n",
      " \u001b[90m [3161d3a3] \u001b[39m\u001b[37mZstd_jll v1.4.5+1\u001b[39m\n",
      " \u001b[90m [0ac62f75] \u001b[39m\u001b[37mlibass_jll v0.14.0+3\u001b[39m\n",
      " \u001b[90m [f638f0a6] \u001b[39m\u001b[37mlibfdk_aac_jll v0.1.6+3\u001b[39m\n",
      " \u001b[90m [f27f6e37] \u001b[39m\u001b[37mlibvorbis_jll v1.3.6+5\u001b[39m\n",
      " \u001b[90m [1270edf5] \u001b[39m\u001b[37mx264_jll v2020.7.14+1\u001b[39m\n",
      " \u001b[90m [dfaa095f] \u001b[39m\u001b[37mx265_jll v3.0.0+2\u001b[39m\n",
      " \u001b[90m [2a0f44e3] \u001b[39m\u001b[37mBase64\u001b[39m\n",
      " \u001b[90m [ade2ca70] \u001b[39m\u001b[37mDates\u001b[39m\n",
      " \u001b[90m [8bb1440f] \u001b[39m\u001b[37mDelimitedFiles\u001b[39m\n",
      " \u001b[90m [8ba89e20] \u001b[39m\u001b[37mDistributed\u001b[39m\n",
      " \u001b[90m [7b1f6079] \u001b[39m\u001b[37mFileWatching\u001b[39m\n",
      " \u001b[90m [b77e0a4c] \u001b[39m\u001b[37mInteractiveUtils\u001b[39m\n",
      " \u001b[90m [76f85450] \u001b[39m\u001b[37mLibGit2\u001b[39m\n",
      " \u001b[90m [8f399da3] \u001b[39m\u001b[37mLibdl\u001b[39m\n",
      " \u001b[90m [37e2e46d] \u001b[39m\u001b[37mLinearAlgebra\u001b[39m\n",
      " \u001b[90m [56ddb016] \u001b[39m\u001b[37mLogging\u001b[39m\n",
      " \u001b[90m [d6f4376e] \u001b[39m\u001b[37mMarkdown\u001b[39m\n",
      " \u001b[90m [a63ad114] \u001b[39m\u001b[37mMmap\u001b[39m\n",
      " \u001b[90m [44cfe95a] \u001b[39m\u001b[37mPkg\u001b[39m\n",
      " \u001b[90m [de0858da] \u001b[39m\u001b[37mPrintf\u001b[39m\n",
      " \u001b[90m [3fa0cd96] \u001b[39m\u001b[37mREPL\u001b[39m\n",
      " \u001b[90m [9a3f8284] \u001b[39m\u001b[37mRandom\u001b[39m\n",
      " \u001b[90m [ea8e919c] \u001b[39m\u001b[37mSHA\u001b[39m\n",
      " \u001b[90m [9e88b42a] \u001b[39m\u001b[37mSerialization\u001b[39m\n",
      " \u001b[90m [1a1011a3] \u001b[39m\u001b[37mSharedArrays\u001b[39m\n",
      " \u001b[90m [6462fe0b] \u001b[39m\u001b[37mSockets\u001b[39m\n",
      " \u001b[90m [2f01184e] \u001b[39m\u001b[37mSparseArrays\u001b[39m\n",
      " \u001b[90m [10745b16] \u001b[39m\u001b[37mStatistics\u001b[39m\n",
      " \u001b[90m [4607b0f0] \u001b[39m\u001b[37mSuiteSparse\u001b[39m\n",
      " \u001b[90m [8dfed614] \u001b[39m\u001b[37mTest\u001b[39m\n",
      " \u001b[90m [cf7118a7] \u001b[39m\u001b[37mUUIDs\u001b[39m\n",
      " \u001b[90m [4ec0a83e] \u001b[39m\u001b[37mUnicode\u001b[39m\n"
     ]
    },
    {
     "name": "stdout",
     "output_type": "stream",
     "text": [
      "Test Summary:  | Pass  Total\n",
      "Detector Setup |    8      8\n"
     ]
    },
    {
     "name": "stderr",
     "output_type": "stream",
     "text": [
      "[ Info: Worker 1 got 2 events and generated 2 signals\n",
      "[ Info: Worker 1 got 2 events and generated 0 signals\n",
      "[ Info: Worker 1 got 1 events and generated 0 signals\n",
      "[ Info: Worker 1 got 1 events and generated 1 signals\n"
     ]
    },
    {
     "name": "stdout",
     "output_type": "stream",
     "text": [
      "Test Summary: | Pass  Total\n",
      "Signals       |   30     30\n",
      "\n",
      "Reading values from config file /mnt/geda00/nemec/BachelorThesis/test/GWD6022_01ns.config\n",
      "Setup of signal calculation done\n"
     ]
    },
    {
     "name": "stderr",
     "output_type": "stream",
     "text": [
      "\u001b[32m\u001b[1m    Testing\u001b[22m\u001b[39m MaGeSigGen tests passed \n"
     ]
    }
   ],
   "source": [
    "import Pkg; Pkg.activate(\"../../\"); Pkg.test()"
   ]
  },
  {
   "cell_type": "code",
   "execution_count": 2,
   "metadata": {},
   "outputs": [],
   "source": [
    "using MaGeSigGen, MaGe, StatsBase"
   ]
  },
  {
   "cell_type": "code",
   "execution_count": 3,
   "metadata": {
    "scrolled": true
   },
   "outputs": [
    {
     "data": {
      "text/plain": [
       "2001-element Array{String,1}:\n",
       " \"/mnt/geda00/nemec/BachelorThesis/runs/09-11-signals/signals/GWD6022_Co56_side50cm_0001_signals.jld\"\n",
       " \"/mnt/geda00/nemec/BachelorThesis/runs/09-11-signals/signals/GWD6022_Co56_side50cm_0002_signals.jld\"\n",
       " \"/mnt/geda00/nemec/BachelorThesis/runs/09-11-signals/signals/GWD6022_Co56_side50cm_0003_signals.jld\"\n",
       " \"/mnt/geda00/nemec/BachelorThesis/runs/09-11-signals/signals/GWD6022_Co56_side50cm_0004_signals.jld\"\n",
       " \"/mnt/geda00/nemec/BachelorThesis/runs/09-11-signals/signals/GWD6022_Co56_side50cm_0005_signals.jld\"\n",
       " \"/mnt/geda00/nemec/BachelorThesis/runs/09-11-signals/signals/GWD6022_Co56_side50cm_0006_signals.jld\"\n",
       " \"/mnt/geda00/nemec/BachelorThesis/runs/09-11-signals/signals/GWD6022_Co56_side50cm_0007_signals.jld\"\n",
       " \"/mnt/geda00/nemec/BachelorThesis/runs/09-11-signals/signals/GWD6022_Co56_side50cm_0008_signals.jld\"\n",
       " \"/mnt/geda00/nemec/BachelorThesis/runs/09-11-signals/signals/GWD6022_Co56_side50cm_0009_signals.jld\"\n",
       " \"/mnt/geda00/nemec/BachelorThesis/runs/09-11-signals/signals/GWD6022_Co56_side50cm_0010_signals.jld\"\n",
       " \"/mnt/geda00/nemec/BachelorThesis/runs/09-11-signals/signals/GWD6022_Co56_side50cm_0011_signals.jld\"\n",
       " \"/mnt/geda00/nemec/BachelorThesis/runs/09-11-signals/signals/GWD6022_Co56_side50cm_0012_signals.jld\"\n",
       " \"/mnt/geda00/nemec/BachelorThesis/runs/09-11-signals/signals/GWD6022_Co56_side50cm_0013_signals.jld\"\n",
       " ⋮\n",
       " \"/mnt/geda00/nemec/BachelorThesis/runs/09-11-signals/signals/GWD6022_Co56_side50cm_1989_signals.jld\"\n",
       " \"/mnt/geda00/nemec/BachelorThesis/runs/09-11-signals/signals/GWD6022_Co56_side50cm_1990_signals.jld\"\n",
       " \"/mnt/geda00/nemec/BachelorThesis/runs/09-11-signals/signals/GWD6022_Co56_side50cm_1991_signals.jld\"\n",
       " \"/mnt/geda00/nemec/BachelorThesis/runs/09-11-signals/signals/GWD6022_Co56_side50cm_1992_signals.jld\"\n",
       " \"/mnt/geda00/nemec/BachelorThesis/runs/09-11-signals/signals/GWD6022_Co56_side50cm_1993_signals.jld\"\n",
       " \"/mnt/geda00/nemec/BachelorThesis/runs/09-11-signals/signals/GWD6022_Co56_side50cm_1994_signals.jld\"\n",
       " \"/mnt/geda00/nemec/BachelorThesis/runs/09-11-signals/signals/GWD6022_Co56_side50cm_1995_signals.jld\"\n",
       " \"/mnt/geda00/nemec/BachelorThesis/runs/09-11-signals/signals/GWD6022_Co56_side50cm_1996_signals.jld\"\n",
       " \"/mnt/geda00/nemec/BachelorThesis/runs/09-11-signals/signals/GWD6022_Co56_side50cm_1997_signals.jld\"\n",
       " \"/mnt/geda00/nemec/BachelorThesis/runs/09-11-signals/signals/GWD6022_Co56_side50cm_1998_signals.jld\"\n",
       " \"/mnt/geda00/nemec/BachelorThesis/runs/09-11-signals/signals/GWD6022_Co56_side50cm_1999_signals.jld\"\n",
       " \"/mnt/geda00/nemec/BachelorThesis/runs/09-11-signals/signals/GWD6022_Co56_side50cm_2000_signals.jld\""
      ]
     },
     "execution_count": 3,
     "metadata": {},
     "output_type": "execute_result"
    }
   ],
   "source": [
    "dir = realpath(joinpath(dirname(pathof(MaGeSigGen)), \"..\", \"runs\", \"09-11-signals\"))\n",
    "\n",
    "event_dir = \"/mnt/e15/comellato/results4Paul/GWD6022_Co56_side50cm/DM\"\n",
    "event_paths = filter(p -> occursin(r\".root.hits$\", p), readdir(event_dir, join=true))\n",
    "signal_paths = map(\n",
    "    p -> joinpath(dir, \"signals\", split(splitdir(p)[end], '.')[1] * \"_signals.jld\"),\n",
    "    event_paths\n",
    ")"
   ]
  },
  {
   "cell_type": "code",
   "execution_count": 4,
   "metadata": {},
   "outputs": [
    {
     "data": {
      "text/plain": [
       "appendrawAoEhist! (generic function with 1 method)"
      ]
     },
     "execution_count": 4,
     "metadata": {},
     "output_type": "execute_result"
    }
   ],
   "source": [
    "function appendrawAoEhist!(hist, event_path::AbstractString, signal_path::AbstractString)\n",
    "    sgnls = load_signals(SignalDict, signal_path)\n",
    "\n",
    "    for event in MaGe.loadstreaming(event_path)\n",
    "        if !ismissing(sgnls[event])\n",
    "            E = energy(event)\n",
    "            push!(hist, (E, getA(sgnls[event]) / E))\n",
    "        end\n",
    "    end\n",
    "\n",
    "    hist\n",
    "end"
   ]
  },
  {
   "cell_type": "code",
   "execution_count": 5,
   "metadata": {},
   "outputs": [
    {
     "ename": "LoadError",
     "evalue": "File /mnt/geda00/nemec/BachelorThesis/runs/09-11-signals/signals/GWD6022_Co56_side50cm_0001_signals.jld cannot be found",
     "output_type": "error",
     "traceback": [
      "File /mnt/geda00/nemec/BachelorThesis/runs/09-11-signals/signals/GWD6022_Co56_side50cm_0001_signals.jld cannot be found",
      "",
      "Stacktrace:",
      " [1] error(::String, ::String, ::String) at ./error.jl:42",
      " [2] jldopen(::String, ::Bool, ::Bool, ::Bool, ::Bool, ::Bool; mmaparrays::Bool, compatible::Bool, compress::Bool) at /home/ge72xul/.julia/packages/JLD/jeGJb/src/JLD.jl:153",
      " [3] jldopen(::String, ::String; mmaparrays::Bool, compatible::Bool, compress::Bool) at /home/ge72xul/.julia/packages/JLD/jeGJb/src/JLD.jl:231",
      " [4] jldopen(::String, ::String) at /home/ge72xul/.julia/packages/JLD/jeGJb/src/JLD.jl:231",
      " [5] jldopen(::JLD.var\"#46#47\"{String}, ::String, ::Vararg{String,N} where N; kws::Base.Iterators.Pairs{Union{},Union{},Tuple{},NamedTuple{(),Tuple{}}}) at /home/ge72xul/.julia/packages/JLD/jeGJb/src/JLD.jl:241",
      " [6] jldopen(::Function, ::String, ::String) at /home/ge72xul/.julia/packages/JLD/jeGJb/src/JLD.jl:241",
      " [7] load(::FileIO.File{FileIO.DataFormat{:JLD}}, ::String) at /home/ge72xul/.julia/packages/JLD/jeGJb/src/JLD.jl:1251",
      " [8] load(::String, ::String; options::Base.Iterators.Pairs{Union{},Union{},Tuple{},NamedTuple{(),Tuple{}}}) at /home/ge72xul/.julia/packages/FileIO/wN5rD/src/loadsave.jl:133",
      " [9] load at /home/ge72xul/.julia/packages/FileIO/wN5rD/src/loadsave.jl:133 [inlined]",
      " [10] load_signals(::Type{SignalDict}, ::String) at /mnt/geda00/nemec/BachelorThesis/src/get_signals.jl:69",
      " [11] top-level scope at In[5]:1",
      " [12] include_string(::Function, ::Module, ::String, ::String) at ./loading.jl:1091"
     ]
    }
   ],
   "source": [
    "sgnls1 = load_signals(SignalDict, signal_paths[1])"
   ]
  },
  {
   "cell_type": "code",
   "execution_count": null,
   "metadata": {},
   "outputs": [],
   "source": []
  }
 ],
 "metadata": {
  "kernelspec": {
   "display_name": "Julia 1.5.1",
   "language": "julia",
   "name": "julia-1.5"
  },
  "language_info": {
   "file_extension": ".jl",
   "mimetype": "application/julia",
   "name": "julia",
   "version": "1.5.1"
  }
 },
 "nbformat": 4,
 "nbformat_minor": 4
}
